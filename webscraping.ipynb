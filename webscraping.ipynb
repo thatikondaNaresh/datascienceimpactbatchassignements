{
 "cells": [
  {
   "cell_type": "code",
   "execution_count": null,
   "metadata": {},
   "outputs": [],
   "source": [
    "Q1. What is Web Scraping? Why is it Used? Give Three Areas Where Web Scraping is Used to Get Data.\n",
    "Web Scraping:\n",
    "Definition: Web Scraping is the process of extracting data from websites. It involves fetching the web page and then extracting and parsing the data for various purposes.\n",
    "Usage: Web Scraping is used to gather large amounts of data from websites efficiently, automating data extraction tasks that would be tedious or impractical to do manually.\n",
    "Areas of Use:\n",
    "Business Intelligence: Extracting competitor pricing data or market trends.\n",
    "Research: Gathering data for academic or scientific research.\n",
    "Content Aggregation: Collecting news headlines or blog posts for aggregation.\n",
    "Q2. What are the Different Methods Used for Web Scraping?\n",
    "There are various methods for web scraping, including:\n",
    "Using Libraries: Python libraries like Beautiful Soup, Scrapy, or Requests-HTML provide powerful tools to fetch and parse HTML content.\n",
    "Using Browser Extensions: Tools like Octoparse, ParseHub, or browser extensions such as Web Scraper simplify web scraping without writing code.\n",
    "Manual Scraping: Manually copying and pasting data from web pages, suitable for small-scale data extraction.\n",
    "Q3. What is Beautiful Soup? Why is it Used?\n",
    "Beautiful Soup:\n",
    "Definition: Beautiful Soup is a Python library used for parsing HTML and XML documents, extracting data from HTML pages in a hierarchical and readable manner.\n",
    "Usage: It simplifies the process of web scraping by providing methods to navigate, search, and manipulate the parsed HTML tree.\n",
    "Features: Handles malformed HTML, integrates well with other Python libraries like Requests for fetching web pages, and provides powerful methods for data extraction.\n",
    "Q4. Why is Flask Used in This Web Scraping Project?\n",
    "Flask:\n",
    "Purpose: Flask is a lightweight web framework in Python used to build web applications quickly and with minimal setup.\n",
    "Usage in Web Scraping: Flask can be used to create a web application that hosts scraped data, providing an interface for users to access or interact with the scraped information.\n",
    "Features: Handles HTTP requests and responses, integrates with templates (like Jinja2) for rendering scraped data, and allows for easy deployment.\n",
    "Q5. Names of AWS Services Used in This Project and Their Uses\n",
    "AWS Services:\n",
    "EC2 (Elastic Compute Cloud):\n",
    "Use: Provides scalable computing capacity in the cloud.\n",
    "In This Project: Used to host the Flask web application for serving scraped data.\n",
    "S3 (Simple Storage Service):\n",
    "Use: Object storage service for storing and retrieving data.\n",
    "In This Project: Used to store scraped data files or backups.\n",
    "RDS (Relational Database Service):\n",
    "Use: Managed relational database service.\n",
    "In This Project: Used to store structured data from the web scraping process, facilitating data querying and management.\n",
    "Lambda:\n",
    "Use: Serverless compute service for running code without provisioning or managing servers.\n",
    "In This Project: May be used for scheduled tasks or data processing triggered by events like new data availability.\n",
    "These AWS services are commonly used to support web scraping projects by providing scalable infrastructure, storage solutions, and serverless capabilities for handling various aspects of data extraction, storage, and management.\n",
    "\n"
   ]
  }
 ],
 "metadata": {
  "language_info": {
   "name": "python"
  }
 },
 "nbformat": 4,
 "nbformat_minor": 2
}
