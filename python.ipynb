{
 "cells": [
  {
   "cell_type": "code",
   "execution_count": null,
   "metadata": {},
   "outputs": [],
   "source": [
    "Q1. Sorting a List of Tuples Using a Lambda Function\n",
    "players = [('Sachin Tendulkar', 34357), ('Ricky Ponting', 27483), ('Jack Kallis', 25534), ('Virat Kohli', 24936)]\n",
    "sorted_players = sorted(players, key=lambda x: x[1])\n",
    "print(sorted_players)\n",
    "# Output: [('Virat Kohli', 24936), ('Jack Kallis', 25534), ('Ricky Ponting', 27483), ('Sachin Tendulkar', 34357)]\n",
    "Q2. Finding the Squares of All Numbers in a List Using Lambda and Map Functions\n",
    "numbers = [1, 2, 3, 4, 5, 6, 7, 8, 9, 10]\n",
    "squares = list(map(lambda x: x ** 2, numbers))\n",
    "print(squares)\n",
    "# Output: [1, 4, 9, 16, 25, 36, 49, 64, 81, 100]\n",
    "Q3. Converting a List of Integers into a Tuple of Strings Using Map and Lambda Functions\n",
    "numbers = [1, 2, 3, 4, 5, 6, 7, 8, 9, 10]\n",
    "strings_tuple = tuple(map(lambda x: str(x), numbers))\n",
    "print(strings_tuple)\n",
    "# Output: ('1', '2', '3', '4', '5', '6', '7', '8', '9', '10')\n",
    "Q4. Computing the Product of a List Using Reduce Function\n",
    "\n",
    "from functools import reduce\n",
    "\n",
    "numbers = list(range(1, 26))\n",
    "product = reduce(lambda x, y: x * y, numbers)\n",
    "print(product)\n",
    "# Output: 15511210043330985984000000\n",
    "Q5. Filtering Numbers Divisible by 2 and 3 Using Filter Function\n",
    "numbers = [2, 3, 6, 9, 27, 60, 90, 120, 55, 46]\n",
    "filtered_numbers = list(filter(lambda x: x % 2 == 0 and x % 3 == 0, numbers))\n",
    "print(filtered_numbers)\n",
    "# Output: [6, 60, 90, 120]\n",
    "Q6. Finding Palindromes in a List of Strings Using Lambda and Filter Functions\n",
    "words = ['python', 'php', 'aba', 'radar', 'level']\n",
    "palindromes = list(filter(lambda x: x == x[::-1], words))\n",
    "print(palindromes)\n",
    "# Output: ['php', 'aba', 'radar', 'level']\n"
   ]
  }
 ],
 "metadata": {
  "language_info": {
   "name": "python"
  }
 },
 "nbformat": 4,
 "nbformat_minor": 2
}
